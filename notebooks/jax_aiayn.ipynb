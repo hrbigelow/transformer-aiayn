{
 "cells": [
  {
   "cell_type": "code",
   "execution_count": null,
   "metadata": {
    "id": "2cD1043O5LtL"
   },
   "outputs": [],
   "source": [
    "# By default, the TPU image has jax==0.3.25, jaxlib==0.3.25, flax==0.6.11\n",
    "# But, flax 0.6.11 actually requires jax>=0.4.2 as a dependency:\n",
    "# https://github.com/google/flax/blob/fd567c8578f2ba346321890aa1657fce93b4eecf/pyproject.toml#L14\n",
    "# Not sure how this happened!  The solution is\n",
    "# !pip show jax jaxlib flax\n",
    "\n",
    "# This for some reason also updates jax as a side-effect, even though flax==0.6.4\n",
    "# only requires jax>=0.3.16\n",
    "# https://github.com/google/flax/blob/dc28d8cbdea8dfbd24868d2b528cd8dc47c4df7e/setup.py#L29\n",
    "# !pip install flax==0.6.4\n",
    "\n",
    "\n",
    "# Then this - see https://github.com/google/flax/issues/2950#issuecomment-1490223629\n",
    "\n",
    "# The solution is this incantation:\n",
    "!pip install flax==0.6.4 jax==0.3.25 jaxlib==0.3.25 orbax==0.1.0\n",
    "!pip install --upgrade git+https://github.com/hrbigelow/streamvis.git"
   ]
  },
  {
   "cell_type": "code",
   "execution_count": null,
   "metadata": {
    "id": "pjtz-z5oPNE4"
   },
   "outputs": [],
   "source": [
    "# !pip uninstall -y streamvis\n",
    "!pip uninstall -y transformer-aiayn\n",
    "!pip install --upgrade git+https://github.com/hrbigelow/transformer-aiayn.git\n",
    "# you then need to restart the runtime (Ctrl-M <period>)\n",
    "# !pip install --upgrade streamvis\n",
    "# !git clone https://github.com/hrbigelow/transformer-aiayn.git\n",
    "# !pip install -e transformer-aiayn\n",
    "# It seems you need to restart runtime after this step\n"
   ]
  },
  {
   "cell_type": "code",
   "execution_count": null,
   "metadata": {
    "colab": {
     "base_uri": "https://localhost:8080/"
    },
    "id": "SlGmJ2aNM0a0",
    "outputId": "499c8847-c448-4406-b44b-7e1cca1644d9"
   },
   "outputs": [],
   "source": [
    "# Sometimes, this fails with:\n",
    "# Backend 'tpu_driver' failed to initialize: DEADLINE_EXCEEDED: Failed to connect to remote server at address: grpc://10.6.103.106:8470. Error from gRPC: Deadline Exceeded. Details:\n",
    "# If this happens, restart with Ctrl-M <period> and rerun cell\n",
    "\n",
    "import jax.tools.colab_tpu\n",
    "jax.tools.colab_tpu.setup_tpu()\n",
    "\n",
    "import jax\n",
    "jax.devices()\n",
    "# Should return an array of 8 [TpuDevice(id=...) ...]\n",
    "# If this returns [CpuDevice()], restart the runtime with Ctrl-M <period> and re-run this cell\n",
    "# Sometimes it will return CpuDevice after running the previous cell."
   ]
  },
  {
   "cell_type": "code",
   "execution_count": null,
   "metadata": {
    "colab": {
     "base_uri": "https://localhost:8080/"
    },
    "id": "_5bJRndrT6ar",
    "outputId": "787dd392-8625-4efc-919d-b393fc6477ed"
   },
   "outputs": [
    {
     "name": "stdout",
     "output_type": "stream",
     "text": [
      "Updated property [core/project].\n"
     ]
    }
   ],
   "source": [
    "# In order to use Google Cloud Storage (for dataset and checkpoints identified by gs://... globs)\n",
    "# first create a Google Cloud project and then enable the GCS API\n",
    "!gcloud config set project <YOUR_PROJECT_ID>\n",
    "\n",
    "from google.colab import auth\n",
    "auth.authenticate_user()"
   ]
  },
  {
   "cell_type": "code",
   "execution_count": null,
   "metadata": {
    "colab": {
     "base_uri": "https://localhost:8080/"
    },
    "id": "7dhWmHZoNKMo",
    "outputId": "7f9f777b-59ce-4a43-df0b-e8a4241f9f5d"
   },
   "outputs": [],
   "source": [
    "# %env TF_CPP_MIN_LOG_LEVEL=0\n",
    "import nest_asyncio\n",
    "nest_asyncio.apply()\n",
    "\n",
    "from importlib import reload\n",
    "\n",
    "# reload(aiayn.train)\n",
    "import aiayn.train\n",
    "\n",
    "# Another sporadic error:\n",
    "# XlaRuntimeError: FAILED_PRECONDITION: Dependency failed: Could not allocate 102940672 bytes in memory 0x0x0_HBM0; 79691776 bytes allocatable, 123109376 bytes available\n",
    "\n",
    "run = 'sept9'\n",
    "\n",
    "# Create a bucket (here called ml-checkpoints)\n",
    "gsroot = 'gs://ml-checkpoints/'\n",
    "\n",
    "# \n",
    "dataset_glob = gsroot + 'de-en-32k/*.tfrecord'\n",
    "val_dataset_glob = gsroot + 'de-en-val/*.tfrecord'\n",
    "ckpt_dir = gsroot + 'sept9'\n",
    "\n",
    "streamvis_run_name = run + '-mask-bug-fix'\n",
    "streamvis_path = gsroot + 'svlog6'\n",
    "tokenizer_file = gsroot + 'hf/de-en.bpe.36500.json'\n",
    "resume_ckpt = 20000\n",
    "\n",
    "\n",
    "aiayn.train.main(\n",
    "     'arch,reg,train,data,logging',\n",
    "     dataset_glob=dataset_glob,\n",
    "     val_dataset_glob=val_dataset_glob,\n",
    "     ckpt_every=3000,\n",
    "     ckpt_dir=ckpt_dir,\n",
    "     resume_ckpt=resume_ckpt,\n",
    "     report_every=10,\n",
    "     batch_dim0=96,\n",
    "     accum_steps=2,\n",
    "     val_loop_elem=32,\n",
    "     eval_every=100,\n",
    "     max_source_len=320,\n",
    "     max_target_len=320,\n",
    "     streamvis_run_name=streamvis_run_name,\n",
    "     streamvis_buffer_items=500,\n",
    "     streamvis_path=streamvis_path,\n",
    "     tokenizer_file=tokenizer_file,\n",
    "     warmup_steps=4000,\n",
    "     swap_source_target=True,\n",
    "     with_metrics=False,\n",
    "     shuffle_size=100000,\n",
    "     label_smooth_eps=0.1,\n",
    "     pos_encoding_factor=1.0,\n",
    "     attn_loss_weight=0.0\n",
    "     )\n",
    "\n",
    "\"\"\"\n",
    "For some reason, launching the program this way results in errors like 'libtpu.so not found'\n",
    "!/usr/bin/python3 -m aiayn.train ...\n",
    "\"\"\""
   ]
  }
 ],
 "metadata": {
  "accelerator": "TPU",
  "colab": {
   "provenance": []
  },
  "kernelspec": {
   "display_name": "Python 3 (ipykernel)",
   "language": "python",
   "name": "python3"
  },
  "language_info": {
   "codemirror_mode": {
    "name": "ipython",
    "version": 3
   },
   "file_extension": ".py",
   "mimetype": "text/x-python",
   "name": "python",
   "nbconvert_exporter": "python",
   "pygments_lexer": "ipython3",
   "version": "3.8.17"
  }
 },
 "nbformat": 4,
 "nbformat_minor": 4
}
